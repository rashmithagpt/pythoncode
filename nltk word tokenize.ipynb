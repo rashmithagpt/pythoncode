{
 "cells": [
  {
   "cell_type": "code",
   "execution_count": 3,
   "id": "c22088e3",
   "metadata": {},
   "outputs": [
    {
     "name": "stdout",
     "output_type": "stream",
     "text": [
      "Natural anguage processing refers to the 3branch of computer science and more\n",
      "specifically, the branch of artificial intelligence or AI, concerned with giv\n",
      "ing 45computers the ability to understand text and\n",
      "spoken words in much the same way human beings can. NLP combines computationa\n",
      "l linguistics with statistical, machine learning, and deep learning models.\"\n",
      "Together\"[, these technologies enable]*\n",
      "computers to process534 humen language in the form of text or voice data and\n",
      "to understand its full meaning, complete with the speaker or writer's%# inten\n",
      "t and sentiment.\n",
      "\n"
     ]
    }
   ],
   "source": [
    "import nltk\n",
    "from nltk.tokenize import sent_tokenize\n",
    "file=open('C:\\\\Users\\\\gpt-bantwal\\\\Desktop\\\\nlp.txt',\"r\")\n",
    "text=file.read()\n",
    "print(text)\n"
   ]
  },
  {
   "cell_type": "code",
   "execution_count": 4,
   "id": "e9026726",
   "metadata": {},
   "outputs": [
    {
     "name": "stderr",
     "output_type": "stream",
     "text": [
      "[nltk_data] Downloading package punkt to C:\\Users\\gpt-\n",
      "[nltk_data]     bantwal\\AppData\\Roaming\\nltk_data...\n",
      "[nltk_data]   Package punkt is already up-to-date!\n"
     ]
    },
    {
     "data": {
      "text/plain": [
       "True"
      ]
     },
     "execution_count": 4,
     "metadata": {},
     "output_type": "execute_result"
    }
   ],
   "source": [
    "nltk.download('punkt')"
   ]
  },
  {
   "cell_type": "code",
   "execution_count": 5,
   "id": "af109286",
   "metadata": {},
   "outputs": [],
   "source": [
    "sentences=sent_tokenize(text)"
   ]
  },
  {
   "cell_type": "code",
   "execution_count": 6,
   "id": "d7405b91",
   "metadata": {},
   "outputs": [
    {
     "name": "stdout",
     "output_type": "stream",
     "text": [
      "number of sentences: 3\n",
      "\n",
      "sentences 1 :\n",
      " Natural anguage processing refers to the 3branch of computer science and more\n",
      "specifically, the branch of artificial intelligence or AI, concerned with giv\n",
      "ing 45computers the ability to understand text and\n",
      "spoken words in much the same way human beings can.\n",
      "\n",
      "sentences 2 :\n",
      " NLP combines computationa\n",
      "l linguistics with statistical, machine learning, and deep learning models.\"\n",
      "\n",
      "sentences 3 :\n",
      " Together\"[, these technologies enable]*\n",
      "computers to process534 humen language in the form of text or voice data and\n",
      "to understand its full meaning, complete with the speaker or writer's%# inten\n",
      "t and sentiment.\n"
     ]
    }
   ],
   "source": [
    "print(\"number of sentences:\",len(sentences))\n",
    "for i in range(len(sentences)):\n",
    " print(\"\\nsentences\",i+1,\":\\n\",sentences[i])"
   ]
  },
  {
   "cell_type": "code",
   "execution_count": 7,
   "id": "9ca4d91e",
   "metadata": {},
   "outputs": [
    {
     "name": "stdout",
     "output_type": "stream",
     "text": [
      "total number of words 104\n",
      "['Natural', 'anguage', 'processing', 'refers', 'to', 'the', '3branch', 'of', 'computer', 'science', 'and', 'more', 'specifically', ',', 'the', 'branch', 'of', 'artificial', 'intelligence', 'or', 'AI', ',', 'concerned', 'with', 'giv', 'ing', '45computers', 'the', 'ability', 'to', 'understand', 'text', 'and', 'spoken', 'words', 'in', 'much', 'the', 'same', 'way', 'human', 'beings', 'can', '.', 'NLP', 'combines', 'computationa', 'l', 'linguistics', 'with', 'statistical', ',', 'machine', 'learning', ',', 'and', 'deep', 'learning', 'models', '.', \"''\", 'Together', \"''\", '[', ',', 'these', 'technologies', 'enable', ']', '*', 'computers', 'to', 'process534', 'humen', 'language', 'in', 'the', 'form', 'of', 'text', 'or', 'voice', 'data', 'and', 'to', 'understand', 'its', 'full', 'meaning', ',', 'complete', 'with', 'the', 'speaker', 'or', 'writer', \"'s\", '%', '#', 'inten', 't', 'and', 'sentiment', '.']\n"
     ]
    }
   ],
   "source": [
    "from nltk.tokenize import word_tokenize\n",
    "words=word_tokenize(text)\n",
    "print(\"total number of words\",len(words))\n",
    "print(words)\n"
   ]
  },
  {
   "cell_type": "code",
   "execution_count": 8,
   "id": "ad4bd980",
   "metadata": {},
   "outputs": [
    {
     "name": "stdout",
     "output_type": "stream",
     "text": [
      "Natural anguage processing refers to the 3branch of computer science and more specifically the branch of artificial intelligence or AI concerned with giv ing 45computers the ability to understand text and spoken words in much the same way human beings can NLP combines computationa l linguistics with statistical machine learning and deep learning models Together these technologies enable computers to process534 humen language in the form of text or voice data and to understand its full meaning complete with the speaker or writer s inten t and sentiment \n"
     ]
    }
   ],
   "source": [
    "import re\n",
    "text=re.sub('[^A-Za-z0-9]+',' ',text)\n",
    "print(text)"
   ]
  },
  {
   "cell_type": "code",
   "execution_count": 9,
   "id": "d37b3c1f",
   "metadata": {},
   "outputs": [
    {
     "name": "stdout",
     "output_type": "stream",
     "text": [
      "Natural anguage processing refers to thebranch of computer science and more specifically the branch of artificial intelligence or AI concerned with giv ingcomputers the ability to understand text and spoken words in much the same way human beings can NLP combines computationa l linguistics with statistical machine learning and deep learning models Together these technologies enable computers to processhumen language in the form of text or voice data and to understand its full meaning complete with the speaker or writer s inten t and sentiment\n"
     ]
    }
   ],
   "source": [
    "text=re.sub(\"\\s*\\d\\s*\",\"\",text).strip()\n",
    "print(text)"
   ]
  },
  {
   "cell_type": "code",
   "execution_count": 12,
   "id": "d7e84700",
   "metadata": {},
   "outputs": [
    {
     "name": "stdout",
     "output_type": "stream",
     "text": [
      "['Natural', 'anguage', 'processing', 'refers', 'thebranch', 'computer', 'science', 'specifically', 'branch', 'artificial', 'intelligence', 'AI', 'concerned', 'giv', 'ingcomputers', 'ability', 'understand', 'text', 'spoken', 'words', 'much', 'way', 'human', 'beings', 'NLP', 'combines', 'computationa', 'l', 'linguistics', 'statistical', 'machine', 'learning', 'deep', 'learning', 'models', 'Together', 'technologies', 'enable', 'computers', 'processhumen', 'language', 'form', 'text', 'voice', 'data', 'understand', 'full', 'meaning', 'complete', 'speaker', 'writer', 'inten', 'sentiment']\n"
     ]
    }
   ],
   "source": [
    "words=word_tokenize(text)\n",
    "stopwords=nltk.corpus.stopwords.words('english')\n",
    "words_sw_removed=[]\n",
    "for words in words:\n",
    " if words in stopwords:\n",
    "  pass\n",
    " else:\n",
    "  words_sw_removed.append(words)\n",
    "print(words_sw_removed) "
   ]
  },
  {
   "cell_type": "code",
   "execution_count": null,
   "id": "caad335c",
   "metadata": {},
   "outputs": [],
   "source": []
  }
 ],
 "metadata": {
  "kernelspec": {
   "display_name": "Python 3 (ipykernel)",
   "language": "python",
   "name": "python3"
  },
  "language_info": {
   "codemirror_mode": {
    "name": "ipython",
    "version": 3
   },
   "file_extension": ".py",
   "mimetype": "text/x-python",
   "name": "python",
   "nbconvert_exporter": "python",
   "pygments_lexer": "ipython3",
   "version": "3.11.4"
  }
 },
 "nbformat": 4,
 "nbformat_minor": 5
}

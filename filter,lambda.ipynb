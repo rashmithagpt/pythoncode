{
 "cells": [
  {
   "cell_type": "code",
   "execution_count": 1,
   "id": "03449c06",
   "metadata": {},
   "outputs": [
    {
     "name": "stdout",
     "output_type": "stream",
     "text": [
      "13\n"
     ]
    }
   ],
   "source": [
    "x=lambda a,b,c:a+b+c\n",
    "print(x(5,6,2))"
   ]
  },
  {
   "cell_type": "code",
   "execution_count": 2,
   "id": "acb0d20b",
   "metadata": {},
   "outputs": [
    {
     "name": "stdout",
     "output_type": "stream",
     "text": [
      "[True, False, False, True, False]\n"
     ]
    }
   ],
   "source": []
  },
  {
   "cell_type": "code",
   "execution_count": 3,
   "id": "906221af",
   "metadata": {},
   "outputs": [
    {
     "name": "stdout",
     "output_type": "stream",
     "text": [
      "[True, False, False, True, False]\n"
     ]
    }
   ],
   "source": [
    "def starts_with_A(s):\n",
    "    return s[0]==\"A\"\n",
    "fruit=[\"Apple\",\"Banana\",\"Pear\",\"Apricot\",\"Orenge\"]\n",
    "map_object=map(lambda s:s[0]==\"A\",fruit)\n",
    "print(list(map_object))"
   ]
  },
  {
   "cell_type": "code",
   "execution_count": 8,
   "id": "ca4bff1b",
   "metadata": {},
   "outputs": [],
   "source": [
    "def starts_with_A(s):\n",
    "    return s[0]==\"A\"\n",
    "    fruit=[\"Apple\",\"Banana\",\"Pear\",\"Apricot\",\"Orange\"]\n",
    "    filter_object=filter(starts_with_A,fruit)\n",
    "    print(list(filter_object))"
   ]
  },
  {
   "cell_type": "code",
   "execution_count": 9,
   "id": "571bda84",
   "metadata": {},
   "outputs": [],
   "source": []
  },
  {
   "cell_type": "code",
   "execution_count": null,
   "id": "6479a304",
   "metadata": {},
   "outputs": [],
   "source": []
  },
  {
   "cell_type": "code",
   "execution_count": 10,
   "id": "e4aea096",
   "metadata": {},
   "outputs": [
    {
     "name": "stdout",
     "output_type": "stream",
     "text": [
      "['Apple', 'Apricot']\n"
     ]
    }
   ],
   "source": [
    "def starts_with_A(s):\n",
    "    return s[0]==\"A\"\n",
    "fruit=[\"Apple\",\"Banana\",\"Pear\",\"Apricot\",\"Orange\"]\n",
    "filter_object=filter(starts_with_A,fruit)\n",
    "print(list(filter_object))"
   ]
  },
  {
   "cell_type": "code",
   "execution_count": 11,
   "id": "4287dd72",
   "metadata": {},
   "outputs": [
    {
     "name": "stdout",
     "output_type": "stream",
     "text": [
      "['Apple', 'Apricot']\n"
     ]
    }
   ],
   "source": [
    "fruit=[\"Apple\",\"Banana\",\"Pear\",\"Apricot\",\"Orange\"]\n",
    "filter_object=filter(lambda s:s[0]==\"A\",fruit)\n",
    "print(list(filter_object))"
   ]
  },
  {
   "cell_type": "code",
   "execution_count": 18,
   "id": "cec3589c",
   "metadata": {},
   "outputs": [
    {
     "ename": "IndentationError",
     "evalue": "unexpected indent (1205136067.py, line 5)",
     "output_type": "error",
     "traceback": [
      "\u001b[1;36m  Cell \u001b[1;32mIn[18], line 5\u001b[1;36m\u001b[0m\n\u001b[1;33m    print reduce(add,list))\u001b[0m\n\u001b[1;37m    ^\u001b[0m\n\u001b[1;31mIndentationError\u001b[0m\u001b[1;31m:\u001b[0m unexpected indent\n"
     ]
    }
   ],
   "source": [
    "from functools import reduce\n",
    "def add (x,y):\n",
    "   return x+y\n",
    "   list[2,4,7,3]\n",
    "    t reducrdd,list))"
   ]
  },
  {
   "cell_type": "code",
   "execution_count": null,
   "id": "96be0a65",
   "metadata": {},
   "outputs": [],
   "source": []
  }
 ],
 "metadata": {
  "kernelspec": {
   "display_name": "Python 3 (ipykernel)",
   "language": "python",
   "name": "python3"
  },
  "language_info": {
   "codemirror_mode": {
    "name": "ipython",
    "version": 3
   },
   "file_extension": ".py",
   "mimetype": "text/x-python",
   "name": "python",
   "nbconvert_exporter": "python",
   "pygments_lexer": "ipython3",
   "version": "3.11.4"
  }
 },
 "nbformat": 4,
 "nbformat_minor": 5
}

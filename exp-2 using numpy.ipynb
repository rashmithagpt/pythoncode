{
 "cells": [
  {
   "cell_type": "code",
   "execution_count": 5,
   "id": "1820da00",
   "metadata": {},
   "outputs": [
    {
     "data": {
      "text/plain": [
       "array([[   1, 4335],\n",
       "       [   2, 9552],\n",
       "       [   3, 7332],\n",
       "       [   4, 4504],\n",
       "       [   5, 5335],\n",
       "       [   6, 7552],\n",
       "       [   7, 8332],\n",
       "       [   8, 6504],\n",
       "       [   9, 8965],\n",
       "       [  10, 7689]])"
      ]
     },
     "execution_count": 5,
     "metadata": {},
     "output_type": "execute_result"
    }
   ],
   "source": [
    "import numpy as np\n",
    "day_number=np.arange(1,11)\n",
    "steps_walked=[4335,9552,7332,4504,5335,7552,8332,6504,8965,7689]\n",
    "arr=np.array([day_number,steps_walked])\n",
    "arr=arr.T\n",
    "arr"
   ]
  },
  {
   "cell_type": "code",
   "execution_count": 6,
   "id": "23c7766c",
   "metadata": {},
   "outputs": [
    {
     "data": {
      "text/plain": [
       "array([[   2, 9552]])"
      ]
     },
     "execution_count": 6,
     "metadata": {},
     "output_type": "execute_result"
    }
   ],
   "source": [
    "matched=arr[:,1]>9000\n",
    "matched\n",
    "new_arr=arr[matched]\n",
    "new_arr"
   ]
  },
  {
   "cell_type": "code",
   "execution_count": 8,
   "id": "1dd808ab",
   "metadata": {},
   "outputs": [
    {
     "data": {
      "text/plain": [
       "array([[    1,  6335],\n",
       "       [    2, 11552],\n",
       "       [    3,  9332],\n",
       "       [    4,  6504],\n",
       "       [    5,  7335],\n",
       "       [    6,  9552],\n",
       "       [    7, 10332],\n",
       "       [    8,  8504],\n",
       "       [    9, 10965],\n",
       "       [   10,  9689]])"
      ]
     },
     "execution_count": 8,
     "metadata": {},
     "output_type": "execute_result"
    }
   ],
   "source": [
    "new_arr=arr[:,1]+2000\n",
    "arr[:,1]=new_arr\n",
    "arr"
   ]
  },
  {
   "cell_type": "code",
   "execution_count": 7,
   "id": "3ba81da2",
   "metadata": {},
   "outputs": [
    {
     "ename": "NameError",
     "evalue": "name 'df' is not defined",
     "output_type": "error",
     "traceback": [
      "\u001b[1;31m---------------------------------------------------------------------------\u001b[0m",
      "\u001b[1;31mNameError\u001b[0m                                 Traceback (most recent call last)",
      "Cell \u001b[1;32mIn[7], line 1\u001b[0m\n\u001b[1;32m----> 1\u001b[0m matched\u001b[38;5;241m=\u001b[39mdf\u001b[38;5;241m.\u001b[39mloc[df[\u001b[38;5;124m'\u001b[39m\u001b[38;5;124msteps_walked\u001b[39m\u001b[38;5;124m'\u001b[39m]]\u001b[38;5;241m>\u001b[39m\u001b[38;5;241m9000\u001b[39m\n\u001b[0;32m      2\u001b[0m \u001b[38;5;28mprint\u001b[39m(matched)\n",
      "\u001b[1;31mNameError\u001b[0m: name 'df' is not defined"
     ]
    }
   ],
   "source": [
    "matched=df.loc[df['steps_walked']]>9000\n",
    "print(matched)"
   ]
  },
  {
   "cell_type": "code",
   "execution_count": null,
   "id": "ec368a39",
   "metadata": {},
   "outputs": [],
   "source": []
  }
 ],
 "metadata": {
  "kernelspec": {
   "display_name": "Python 3 (ipykernel)",
   "language": "python",
   "name": "python3"
  },
  "language_info": {
   "codemirror_mode": {
    "name": "ipython",
    "version": 3
   },
   "file_extension": ".py",
   "mimetype": "text/x-python",
   "name": "python",
   "nbconvert_exporter": "python",
   "pygments_lexer": "ipython3",
   "version": "3.11.4"
  }
 },
 "nbformat": 4,
 "nbformat_minor": 5
}

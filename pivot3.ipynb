{
 "cells": [
  {
   "cell_type": "code",
   "execution_count": 3,
   "id": "ee2f260d",
   "metadata": {},
   "outputs": [
    {
     "name": "stdout",
     "output_type": "stream",
     "text": [
      "  first name last name                type      department  YOE  salary\n",
      "0      aryan     singh  full-time employee  administration    2   20000\n",
      "1      rohan   agarwal              interm       technical    3    5000\n",
      "2      priya      shah  full-time employee  administration    5   10000\n",
      "3       yash    bhatie  part-time employee       technical    7   10000\n",
      "4   siddanth    khanna  full-time employee     manaagement    6   20000\n"
     ]
    }
   ],
   "source": [
    "import pandas as pd\n",
    "data={\n",
    "    'first name':['aryan','rohan','priya','yash','siddanth'],\n",
    "    'last name':['singh','agarwal','shah','bhatie','khanna'],\n",
    "    'type':['full-time employee','interm','full-time employee','part-time employee','full-time employee'],\n",
    "    'department':['administration','technical','administration','technical','manaagement'],\n",
    "    'YOE':[2,3,5,7,6],\n",
    "    'salary':[20000,5000,10000,10000,20000]\n",
    "}\n",
    "df=pd.DataFrame(data)\n",
    "print(df)"
   ]
  },
  {
   "cell_type": "code",
   "execution_count": 17,
   "id": "25f95bb8",
   "metadata": {},
   "outputs": [
    {
     "name": "stdout",
     "output_type": "stream",
     "text": [
      "                                   salary\n",
      "type               department            \n",
      "full-time employee administration   15000\n",
      "                   manaagement      20000\n",
      "interm             technical         5000\n",
      "part-time employee technical        10000\n"
     ]
    }
   ],
   "source": [
    "table=pd.pivot_table(df,index=['type','department',],values='salary',aggfunc='mean')\n",
    "print(table)"
   ]
  },
  {
   "cell_type": "code",
   "execution_count": 22,
   "id": "1d3b25eb",
   "metadata": {},
   "outputs": [
    {
     "name": "stdout",
     "output_type": "stream",
     "text": [
      "(                          salary\n",
      "type                            \n",
      "full-time employee  16666.666667\n",
      "interm               5000.000000\n",
      "part-time employee  10000.000000,)\n"
     ]
    }
   ],
   "source": [
    "pivot=pd.pivot_table(\n",
    "data=df,\n",
    "index='type',\n",
    "values='salary'),\n",
    "aggfunc=['mean','sum']\n",
    "print(pivot)"
   ]
  },
  {
   "cell_type": "code",
   "execution_count": 28,
   "id": "86383de9",
   "metadata": {},
   "outputs": [
    {
     "data": {
      "text/html": [
       "<div>\n",
       "<style scoped>\n",
       "    .dataframe tbody tr th:only-of-type {\n",
       "        vertical-align: middle;\n",
       "    }\n",
       "\n",
       "    .dataframe tbody tr th {\n",
       "        vertical-align: top;\n",
       "    }\n",
       "\n",
       "    .dataframe thead th {\n",
       "        text-align: right;\n",
       "    }\n",
       "</style>\n",
       "<table border=\"1\" class=\"dataframe\">\n",
       "  <thead>\n",
       "    <tr style=\"text-align: right;\">\n",
       "      <th></th>\n",
       "      <th>salary</th>\n",
       "    </tr>\n",
       "    <tr>\n",
       "      <th>type</th>\n",
       "      <th></th>\n",
       "    </tr>\n",
       "  </thead>\n",
       "  <tbody>\n",
       "    <tr>\n",
       "      <th>full-time employee</th>\n",
       "      <td>50000</td>\n",
       "    </tr>\n",
       "    <tr>\n",
       "      <th>interm</th>\n",
       "      <td>5000</td>\n",
       "    </tr>\n",
       "    <tr>\n",
       "      <th>part-time employee</th>\n",
       "      <td>10000</td>\n",
       "    </tr>\n",
       "  </tbody>\n",
       "</table>\n",
       "</div>"
      ],
      "text/plain": [
       "                    salary\n",
       "type                      \n",
       "full-time employee   50000\n",
       "interm                5000\n",
       "part-time employee   10000"
      ]
     },
     "execution_count": 28,
     "metadata": {},
     "output_type": "execute_result"
    }
   ],
   "source": [
    "df.pivot_table(index='type',values='salary',aggfunc='sum')"
   ]
  },
  {
   "cell_type": "code",
   "execution_count": null,
   "id": "371d612b",
   "metadata": {},
   "outputs": [],
   "source": []
  }
 ],
 "metadata": {
  "kernelspec": {
   "display_name": "Python 3 (ipykernel)",
   "language": "python",
   "name": "python3"
  },
  "language_info": {
   "codemirror_mode": {
    "name": "ipython",
    "version": 3
   },
   "file_extension": ".py",
   "mimetype": "text/x-python",
   "name": "python",
   "nbconvert_exporter": "python",
   "pygments_lexer": "ipython3",
   "version": "3.11.4"
  }
 },
 "nbformat": 4,
 "nbformat_minor": 5
}
